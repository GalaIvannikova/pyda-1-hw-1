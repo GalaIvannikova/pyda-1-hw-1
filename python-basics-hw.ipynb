{
 "cells": [
  {
   "cell_type": "markdown",
   "metadata": {},
   "source": [
    "**Задание 1**. Даны 2 строки: *long_phrase* и *short_phrase*. \n",
    "Напишите код, который проверяет действительно ли длинная фраза *long_phrase* длиннее короткой *short_phrase*. И выводит *True* или *False* в зависимости от результата сравнения."
   ]
  },
  {
   "cell_type": "code",
   "execution_count": 1,
   "metadata": {},
   "outputs": [],
   "source": [
    "long_phrase = 'Насколько проще было бы писать программы, если бы не заказчики'\n",
    "short_phrase = '640Кб должно хватить для любых задач. Билл Гейтс (по легенде)'"
   ]
  },
  {
   "cell_type": "code",
   "execution_count": 2,
   "metadata": {},
   "outputs": [
    {
     "name": "stdout",
     "output_type": "stream",
     "text": [
      "True\n"
     ]
    }
   ],
   "source": [
    "result = len(long_phrase) > len(short_phrase)\n",
    "print(result)"
   ]
  },
  {
   "cell_type": "markdown",
   "metadata": {},
   "source": [
    "**Задание 2**. Дано значение объема файла в байтах. Напишите перевод этого значения в мегабайты в формате: \"*Объем файла равен 213.68Mb*\""
   ]
  },
  {
   "cell_type": "code",
   "execution_count": 3,
   "metadata": {},
   "outputs": [
    {
     "name": "stdout",
     "output_type": "stream",
     "text": [
      "Введите размер файла в Килобайтах21368000\n",
      "Объем файла равен  21.368 Mb\n"
     ]
    }
   ],
   "source": [
    "file_size_kb = int(input('Введите размер файла в Килобайтах')) \n",
    "file_size_mb = file_size_kb / 1000000\n",
    "print('Объем файла равен ', file_size_mb,'Mb')"
   ]
  },
  {
   "cell_type": "markdown",
   "metadata": {},
   "source": [
    "**Задание 3**. Разработать приложение для определения знака зодиака по дате рождения. Пример:\n",
    "\n",
    "Введите месяц: март\n",
    "\n",
    "Введите число: 6\n",
    "\n",
    "Вывод:\n",
    "Рыбы"
   ]
  },
  {
   "cell_type": "code",
   "execution_count": 5,
   "metadata": {},
   "outputs": [
    {
     "name": "stdout",
     "output_type": "stream",
     "text": [
      "Введите месяцмарт\n",
      "Введите число14\n",
      "Знак зодиака Рыбы\n"
     ]
    }
   ],
   "source": [
    "month = input('Введите месяц')\n",
    "day = int(input('Введите число'))\n",
    "\n",
    "if (month == 'март' and 21 <= day <= 31) or (month == 'апрель' and 1 <= day <= 20):\n",
    "    print('Знак зодиака Овен')\n",
    "elif  (month == 'апрель' and 21 <= day <= 30) or (month == 'май' and 1 <= day <= 21):\n",
    "    print('Знак зодиака Телец')\n",
    "elif  (month == 'май' and 22 <= day <= 31) or (month == 'июнь' and 1 <= day <= 21):\n",
    "    print('Знак зодиака Близнецы')\n",
    "elif  (month == 'июнь' and 22 <= day <= 30) or (month == 'июль' and 1 <= day <= 22):\n",
    "    print('Знак зодиака Рак')\n",
    "elif  (month == 'июль' and 23 <= day <= 31) or (month == 'август' and 1 <= day <= 21):\n",
    "    print('Знак зодиака Лев')\n",
    "elif  (month == 'август' and 22 <= day <= 31) or (month == 'сентябрь' and 1 <= day <= 23):\n",
    "    print('Знак зодиака Дева')\n",
    "elif  (month == 'сентябрь' and 24 <= day <= 30) or (month == 'октябрь' and 1 <= day <= 23):\n",
    "    print('Знак зодиака Весы')\n",
    "elif  (month == 'октябрь' and 24 <= day <= 31) or (month == 'ноябрь' and 1 <= day <= 22):\n",
    "    print('Знак зодиака Скорпион')\n",
    "elif  (month == 'ноябрь' and 23 <= day <= 30) or (month == 'декабрь' and 1 <= day <= 22):\n",
    "    print('Знак зодиака Стрелец')\n",
    "elif  (month == 'декабрь' and 23 <= day <= 31) or (month == 'январь' and 1 <= day <= 20):\n",
    "    print('Знак зодиака Козерог')\n",
    "elif  (month == 'январь' and 21 <= day <= 31) or (month == 'февраль' and 1 <= day <= 19):\n",
    "    print('Знак зодиака Водолей')\n",
    "elif  (month == 'февраль' and 20 <= day <= 29) or (month == 'март' and 1 <= day <= 20):\n",
    "    print('Знак зодиака Рыбы')\n",
    "else:\n",
    "    print('Упс, у вас очень редкий знак зодиака - Звездочет')"
   ]
  },
  {
   "cell_type": "markdown",
   "metadata": {},
   "source": [
    "**Задание 4**. Нужно разработать приложение для финансового планирования.\n",
    "Приложение учитывает сколько уходит на ипотеку, \"на жизнь\" и сколько нужно отложить на пенсию.\n",
    "Пользователь вводит:\n",
    "- заработанную плату в месяц.\n",
    "- сколько процентов от ЗП уходит на ипотеку.\n",
    "- сколько процентов от ЗП уходит \"на жизнь\".\n",
    "- сколько раз приходит премия в год.\n",
    "\n",
    "Остальная часть заработанной платы откладывается на пенсию.\n",
    "\n",
    "Также пользователю приходит премия в размере зарплаты, от которой половина уходит на отпуск, а вторая половина откладывается.\n",
    "\n",
    "Программа должна учитывать сколько премий было в год.\n",
    "\n",
    "Нужно вывести сколько денег тратит пользователь на ипотеку и сколько он накопит за год.\n",
    "\n",
    "Пример:\n",
    "\n",
    "Введите заработанную плату в месяц: 100000\n",
    "\n",
    "Введите сколько процентов уходит на ипотеку: 30\n",
    "\n",
    "Введите сколько процентов уходит на жизнь: 50\n",
    "\n",
    "Введите количество премий за год: 2\n",
    "\n",
    "Вывод:\n",
    "На ипотеку было потрачено: 360000 рублей\n",
    "Было накоплено: 340000 рублей"
   ]
  },
  {
   "cell_type": "code",
   "execution_count": 10,
   "metadata": {},
   "outputs": [
    {
     "name": "stdout",
     "output_type": "stream",
     "text": [
      "Введите заработанную плату в месяц100000\n",
      "Введите сколько процентов уходит на ипотеку30\n",
      "Введите сколько процентов уходит на жизнь50\n",
      "Введите количество премий за год:2\n",
      "На ипотеку было потрачено:  360000.0 рублей. Было накоплено:  340000.0 рублей\n"
     ]
    }
   ],
   "source": [
    "salary = int(input('Введите заработанную плату в месяц'))\n",
    "mortgage_percent = int(input('Введите сколько процентов уходит на ипотеку'))\n",
    "life_percent = int(input('Введите сколько процентов уходит на жизнь'))\n",
    "bonus_number = int(input('Введите количество премий за год:'))\n",
    "\n",
    "mortgage_year = salary * mortgage_percent / 100 * 12\n",
    "salary_year = salary * 12\n",
    "bonus_year = salary * bonus_number\n",
    "life_year = salary * life_percent / 100 * 12\n",
    "vacation = bonus_year / 2\n",
    "\n",
    "pension = (salary_year + bonus_year) - (mortgage_year + life_year + vacation)\n",
    "print('На ипотеку было потрачено: ', mortgage_year, 'рублей. Было накоплено: ', pension, 'рублей')\n",
    "\n",
    "\n"
   ]
  },
  {
   "cell_type": "code",
   "execution_count": null,
   "metadata": {},
   "outputs": [],
   "source": []
  }
 ],
 "metadata": {
  "kernelspec": {
   "display_name": "Python 3",
   "language": "python",
   "name": "python3"
  },
  "language_info": {
   "codemirror_mode": {
    "name": "ipython",
    "version": 3
   },
   "file_extension": ".py",
   "mimetype": "text/x-python",
   "name": "python",
   "nbconvert_exporter": "python",
   "pygments_lexer": "ipython3",
   "version": "3.7.4"
  }
 },
 "nbformat": 4,
 "nbformat_minor": 2
}
